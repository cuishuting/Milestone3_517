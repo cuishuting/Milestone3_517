{
 "cells": [
  {
   "cell_type": "code",
   "execution_count": 1,
   "id": "01b2f1bd",
   "metadata": {},
   "outputs": [],
   "source": [
    "from sklearn.ensemble import GradientBoostingRegressor\n",
    "import pickle\n",
    "import numpy as np\n",
    "from time import time\n",
    "\n",
    "import pandas as pd\n",
    "from sklearn.neural_network import MLPClassifier\n",
    "from sklearn.neural_network import MLPRegressor\n",
    "from sklearn.ensemble import RandomForestRegressor\n",
    "from sklearn.metrics import mean_squared_error\n",
    "from sklearn.model_selection import RandomizedSearchCV, GridSearchCV\n",
    "from sklearn.preprocessing import StandardScaler\n",
    "from sklearn.model_selection import train_test_split\n",
    "import numpy as np\n",
    "\n",
    "from utils import ModelDumper\n",
    "from sklearn.cluster import KMeans\n",
    "import warnings\n",
    "\n",
    "warnings.filterwarnings('ignore')"
   ]
  },
  {
   "cell_type": "code",
   "execution_count": 2,
   "id": "4c47d908",
   "metadata": {},
   "outputs": [
    {
     "name": "stdout",
     "output_type": "stream",
     "text": [
      "MLPRegressor(activation='tanh', hidden_layer_sizes=(50, 100, 50), max_iter=8000,\n",
      "             random_state=1, solver='lbfgs')\n"
     ]
    }
   ],
   "source": [
    "pic= pd.read_pickle(\"C:/Users/darli/Desktop/result1/model_MLPRegressor_0.161552.pkl\")\n",
    "print(pic)"
   ]
  },
  {
   "cell_type": "code",
   "execution_count": 3,
   "id": "482f6d81",
   "metadata": {},
   "outputs": [],
   "source": [
    "# FEAT_SELECTIONS=['m', 'n', 'current_pitch', 'current_roll', 'absoluate_roll', 'time1',\n",
    "#        'time2', 'time3', 'time4', 'time5', 'time6', 'time7', 'time8', 'time9',\n",
    "#        'time10', 'time11', 'time12', 'time13', 'time14','omega','set']\n",
    "FEAT_SELECTIONS=['m', 'n', 'current_pitch', 'current_roll', 'absoluate_roll', 'time1','set','omega']"
   ]
  },
  {
   "cell_type": "code",
   "execution_count": 4,
   "id": "63939e13",
   "metadata": {},
   "outputs": [],
   "source": [
    "train_features= pd.read_pickle(\"data/normalized_x_train_df.pkl\")\n",
    "train_labels=pd.read_pickle(\"data/normalized_y_train_df.pkl\")\n",
    "val_features=pd.read_pickle(\"data/normalized_x_val_df.pkl\")\n",
    "val_labels=pd.read_pickle(\"data/normalized_y_val_df.pkl\")\n",
    "\n",
    "\n",
    "train_features=train_features[FEAT_SELECTIONS]\n",
    "val_features=val_features[FEAT_SELECTIONS]"
   ]
  },
  {
   "cell_type": "code",
   "execution_count": 5,
   "id": "9fe3c103",
   "metadata": {},
   "outputs": [],
   "source": [
    "# val_features\n",
    "# train_features"
   ]
  },
  {
   "cell_type": "code",
   "execution_count": 6,
   "id": "2b3bb72a",
   "metadata": {},
   "outputs": [],
   "source": [
    "hidden_layer_sizes = [(50,50,50),(50,50,50,50),(50,50,50,50,50),(50,100,100,50),(50,100,300,100,50),(50,100,200,50), (50,100,50),(200,100,50), (100,200,100)]\n",
    "activation = ['identity','logistic','tanh','relu']\n",
    "solver = ['lbfgs','sgd','adam']\n",
    "max_iter = [10000]\n",
    "alpha = [1.e-01, 1.e-02, 1.e-03, 1.e-04, 1.e-05, 1.e-06]\n",
    "\n",
    "random_grid = {'hidden_layer_sizes': hidden_layer_sizes,\n",
    "               'activation': activation,\n",
    "               'solver': solver,\n",
    "               'alpha' : alpha,\n",
    "               'max_iter': max_iter}"
   ]
  },
  {
   "cell_type": "code",
   "execution_count": 7,
   "id": "2a498214",
   "metadata": {},
   "outputs": [
    {
     "name": "stdout",
     "output_type": "stream",
     "text": [
      "{'solver': 'adam', 'max_iter': 10000, 'hidden_layer_sizes': (50, 50, 50, 50), 'alpha': 1e-06, 'activation': 'tanh'}\n",
      "time:  648.1776459217072\n"
     ]
    }
   ],
   "source": [
    "start = time()\n",
    "mlp = MLPRegressor(random_state=1).fit(train_features, train_labels)\n",
    "\n",
    "mlpCV = RandomizedSearchCV(estimator = mlp, param_distributions = random_grid)\n",
    "mlpCV.fit(train_features, train_labels)\n",
    "print(mlpCV.best_params_)\n",
    "print(\"time: \",time() - start)"
   ]
  },
  {
   "cell_type": "code",
   "execution_count": null,
   "id": "2dc841ad",
   "metadata": {
    "scrolled": false
   },
   "outputs": [],
   "source": [
    "mlp = MLPRegressor(solver='lbfgs', max_iter=10000, hidden_layer_sizes=(100, 200, 100),activation='logistic',random_state=1).fit(train_features, train_labels)\n",
    "\n",
    "performance = mean_squared_error(val_labels, mlp.predict(val_features), squared=False)\n",
    "print('random model score %f ' % performance)\n",
    "# save\n",
    "my_dumper=ModelDumper(FEAT_SELECTIONS,MLPRegressor)\n",
    "\n",
    "my_dumper.dump_model(performance,mlp.get_params())\n",
    "\n",
    "#print('base model score %f ' % base_performance)\n"
   ]
  },
  {
   "cell_type": "code",
   "execution_count": null,
   "id": "8c49c5ee",
   "metadata": {},
   "outputs": [],
   "source": []
  }
 ],
 "metadata": {
  "kernelspec": {
   "display_name": "Python 3",
   "language": "python",
   "name": "python3"
  },
  "language_info": {
   "codemirror_mode": {
    "name": "ipython",
    "version": 3
   },
   "file_extension": ".py",
   "mimetype": "text/x-python",
   "name": "python",
   "nbconvert_exporter": "python",
   "pygments_lexer": "ipython3",
   "version": "3.8.8"
  }
 },
 "nbformat": 4,
 "nbformat_minor": 5
}
